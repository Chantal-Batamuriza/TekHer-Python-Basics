{
 "cells": [
  {
   "cell_type": "markdown",
   "id": "426486dd",
   "metadata": {},
   "source": [
    "# Practical_1: Variables and Assignments"
   ]
  },
  {
   "cell_type": "markdown",
   "id": "9fb19f0d",
   "metadata": {},
   "source": [
    "----\n",
    "\n",
    "### Exercise 1:\n",
    "Declare a variable `x` and assign it the value `10`.\n",
    "\n",
    "```python\n",
    "# Exercise 1\n",
    "```\n",
    "\n",
    "---\n",
    "\n",
    "### Exercise 2:\n",
    "Assign the value `True` to a variable called `is_valid`.\n",
    "\n",
    "```python\n",
    "# Exercise 2\n",
    "```\n",
    "\n",
    "---\n",
    "\n",
    "### Exercise 3:\n",
    "Create a string variable `name` with the value \"Python Programming\".\n",
    "\n",
    "```python\n",
    "# Exercise 3\n",
    "```\n",
    "\n",
    "---\n",
    "\n",
    "### Exercise 4:\n",
    "Assign the result of `5 + 3` to a variable `sum_result`.\n",
    "\n",
    "```python\n",
    "# Exercise 4\n",
    "```\n",
    "\n",
    "---\n",
    "\n",
    "### Exercise 5:\n",
    "Assign multiple variables in one line: `a = 5`, `b = 10`, `c = 15`.\n",
    "\n",
    "```python\n",
    "# Exercise 5\n",
    "```\n",
    "\n",
    "---\n",
    "\n",
    "### Exercise 6:\n",
    "Assign the value of one variable `x` to another variable `y`.\n",
    "\n",
    "```python\n",
    "# Exercise 6\n",
    "```\n",
    "\n",
    "---\n",
    "\n",
    "### Exercise 7:\n",
    "Assign a floating-point number `9.8` to a variable `gravity`.\n",
    "\n",
    "```python\n",
    "# Exercise 7\n",
    "```\n",
    "\n",
    "---\n",
    "\n",
    "### Exercise 8:\n",
    "Create a variable `country` and assign it the string value of your favorite country.\n",
    "\n",
    "```python\n",
    "# Exercise 8\n",
    "```\n",
    "\n",
    "---\n",
    "\n",
    "### Exercise 9:\n",
    "Change the value of variable `age` from `25` to `26` in two separate steps.\n",
    "\n",
    "```python\n",
    "# Exercise 9\n",
    "```\n",
    "\n",
    "---\n",
    "\n",
    "### Exercise 10:\n",
    "Use one variable to store the result of subtracting two numbers `20 - 7`.\n",
    "\n",
    "```python\n",
    "# Exercise 10\n",
    "```\n",
    "\n",
    "---\n",
    "\n",
    "### Exercise 11:\n",
    "Assign an integer value and a floating-point value to two different variables.\n",
    "\n",
    "```python\n",
    "# Exercise 11\n",
    "```\n",
    "\n",
    "---\n",
    "\n",
    "### Exercise 12:\n",
    "Assign a boolean value `False` to a variable `is_completed`.\n",
    "\n",
    "```python\n",
    "# Exercise 12\n",
    "```\n",
    "\n",
    "---\n",
    "\n",
    "### Exercise 13:\n",
    "Swap the values of two variables `x` and `y`.\n",
    "\n",
    "```python\n",
    "# Exercise 13\n",
    "```\n",
    "\n",
    "---\n",
    "\n",
    "### Exercise 14:\n",
    "Assign a complex number `3 + 4j` to a variable `complex_num`.\n",
    "\n",
    "```python\n",
    "# Exercise 14\n",
    "```\n",
    "\n",
    "---\n",
    "\n",
    "### Exercise 15:\n",
    "Reassign a variable from an integer to a string.\n",
    "\n",
    "```python\n",
    "# Exercise 15\n",
    "```\n",
    "\n",
    "---\n",
    "\n",
    "### Exercise 16:\n",
    "Create two variables `first_name` and `last_name`, and assign them your first and last names.\n",
    "\n",
    "```python\n",
    "# Exercise 16\n",
    "```\n",
    "\n",
    "---\n",
    "\n",
    "### Exercise 17:\n",
    "Create a variable `temperature` and assign it the value of `35.5`.\n",
    "\n",
    "```python\n",
    "# Exercise 17\n",
    "```\n",
    "\n",
    "---\n",
    "\n",
    "### Exercise 18:\n",
    "Assign the result of the multiplication of two numbers `8 * 6` to a variable `product`.\n",
    "\n",
    "```python\n",
    "# Exercise 18\n",
    "```\n",
    "\n",
    "---\n",
    "\n",
    "### Exercise 19:\n",
    "Assign a sentence of your choice to a variable `sentence`.\n",
    "\n",
    "```python\n",
    "# Exercise 19\n",
    "```\n",
    "\n",
    "---\n",
    "\n",
    "### Exercise 20:\n",
    "Use an assignment to convert a string `'50'` into an integer variable `int_value`.\n",
    "\n",
    "```python\n",
    "# Exercise 20\n",
    "```\n",
    "\n",
    "---\n",
    "\n",
    "### Exercise 21:\n",
    "Assign the result of dividing `144` by `12` to a variable `quotient`.\n",
    "\n",
    "```python\n",
    "# Exercise 21\n",
    "```\n",
    "\n",
    "---\n",
    "\n",
    "### Exercise 22:\n",
    "Assign the remainder of `47 divided by 5` to a variable `remainder`.\n",
    "\n",
    "```python\n",
    "# Exercise 22\n",
    "```\n",
    "\n",
    "---\n",
    "\n",
    "### Exercise 23:\n",
    "Create a variable `is_student` and assign it the value `True`.\n",
    "\n",
    "```python\n",
    "# Exercise 23\n",
    "```\n",
    "\n",
    "---\n",
    "\n",
    "### Exercise 24:\n",
    "Use a variable to store the result of a modulo operation: `45 % 4`.\n",
    "\n",
    "```python\n",
    "# Exercise 24\n",
    "```\n",
    "\n",
    "---\n",
    "\n",
    "### Exercise 25:\n",
    "Create a variable `pi` and assign it the value `3.14159`.\n",
    "\n",
    "```python\n",
    "# Exercise 25\n",
    "```\n",
    "\n",
    "---\n",
    "\n",
    "### Exercise 26:\n",
    "Create two variables `length` and `width`, assign them values, and calculate the area of a rectangle.\n",
    "\n",
    "```python\n",
    "# Exercise 26\n",
    "```\n",
    "\n",
    "---\n",
    "\n",
    "### Exercise 27:\n",
    "Assign a negative number to a variable `negative_value`.\n",
    "\n",
    "```python\n",
    "# Exercise 27\n",
    "```\n",
    "\n",
    "---\n",
    "\n",
    "### Exercise 28:\n",
    "Assign a string containing a special character (e.g., \"Hello, World!\") to a variable `greeting`.\n",
    "\n",
    "```python\n",
    "# Exercise 28\n",
    "```\n",
    "\n",
    "---\n",
    "\n",
    "### Exercise 29:\n",
    "Create a variable `population` and assign it a large integer value (in billions).\n",
    "\n",
    "```python\n",
    "# Exercise 29\n",
    "```\n",
    "\n",
    "---\n",
    "\n",
    "### Exercise 30:\n",
    "Use a variable to store the result of raising `2` to the power of `8`.\n",
    "\n",
    "```python\n",
    "# Exercise 30\n",
    "```\n",
    "\n",
    "---\n",
    "\n",
    "### Exercise 31:\n",
    "Assign a list of your favorite fruits to a variable `fruits`.\n",
    "\n",
    "```python\n",
    "# Exercise 31\n",
    "```\n",
    "\n",
    "---\n",
    "\n",
    "### Exercise 32:\n",
    "Assign a tuple of three numbers to a variable `coordinates`.\n",
    "\n",
    "```python\n",
    "# Exercise 32\n",
    "```\n",
    "\n",
    "---\n",
    "\n",
    "### Exercise 33:\n",
    "Assign a dictionary with keys `name` and `age` to a variable `person`.\n",
    "\n",
    "```python\n",
    "# Exercise 33\n",
    "```\n",
    "\n",
    "---\n",
    "\n",
    "### Exercise 34:\n",
    "Use variables to store the sum of two floating-point numbers.\n",
    "\n",
    "```python\n",
    "# Exercise 34\n",
    "```\n",
    "\n",
    "---\n",
    "\n",
    "### Exercise 35:\n",
    "Create a variable `is_sunny` and assign it the result of a comparison `10 > 5`.\n",
    "\n",
    "```python\n",
    "# Exercise 35\n",
    "```\n",
    "\n",
    "---\n",
    "\n",
    "### Exercise 36:\n",
    "Assign a string and an integer to two different variables, then print both on one line.\n",
    "\n",
    "```python\n",
    "# Exercise 36\n",
    "```\n",
    "\n",
    "---\n",
    "\n",
    "### Exercise 37:\n",
    "Reassign a variable that originally held a number to a boolean value.\n",
    "\n",
    "```python\n",
    "# Exercise 37\n",
    "```\n",
    "\n",
    "---\n",
    "\n",
    "### Exercise 38:\n",
    "Create a variable `is_weekend` and assign it the result of `False`.\n",
    "\n",
    "```python\n",
    "# Exercise 38\n",
    "```\n",
    "\n",
    "---\n",
    "\n",
    "### Exercise 39:\n",
    "Assign a multi-line string to a variable `description`.\n",
    "\n",
    "```python\n",
    "# Exercise 39\n",
    "```\n",
    "\n",
    "---\n",
    "\n",
    "### Exercise 40:\n",
    "Use variables to store the result of the absolute value of `-25`.\n",
    "\n",
    "```python\n",
    "# Exercise 40\n",
    "```\n",
    "\n",
    "---\n",
    "\n",
    "### Exercise 41:\n",
    "Assign the result of a floor division `100 // 6` to a variable `floor_div_result`.\n",
    "\n",
    "```python\n",
    "# Exercise 41\n",
    "```\n",
    "\n",
    "---\n",
    "\n",
    "### Exercise 42:\n",
    "Assign the result of adding a floating-point number to an integer to a variable `mixed_sum`.\n",
    "\n",
    "```python\n",
    "# Exercise 42\n",
    "```\n",
    "\n",
    "---\n",
    "\n",
    "### Exercise 43:\n",
    "Use variables to store a combination of string concatenation.\n",
    "\n",
    "```python\n",
    "# Exercise 43\n",
    "```\n",
    "\n",
    "---\n",
    "\n",
    "### Exercise 44:\n",
    "Assign an empty list to a variable `empty_list`.\n",
    "\n",
    "```python\n",
    "# Exercise 44\n",
    "```\n",
    "\n",
    "---\n",
    "\n",
    "### Exercise 45:\n",
    "Assign a boolean value based on the comparison of two variables `a = 10` and `b = 15`.\n",
    "\n",
    "```python\n",
    "# Exercise 45\n",
    "```\n",
    "\n",
    "---\n",
    "\n",
    "### Exercise 46:\n",
    "Assign a long sentence to a variable and count its characters using `len()`.\n",
    "\n",
    "```python\n",
    "# Exercise 46\n",
    "```\n",
    "\n",
    "---\n",
    "\n",
    "### Exercise 47:\n",
    "Assign a fractional result `7 / 3` to a variable `division_result`.\n",
    "\n",
    "```python\n",
    "# Exercise 47\n",
    "```\n",
    "\n",
    "---\n",
    "\n",
    "### Exercise 48:\n",
    "Create a variable `speed` and assign it the value of 100 kilometers per hour.\n",
    "\n",
    "```python\n",
    "# Exercise 48\n",
    "```\n",
    "\n",
    "---\n",
    "\n",
    "### Exercise 49:\n",
    "Assign a multi-variable equation like `y = 3x + 5` where `x = 4` to a variable `y`.\n",
    "\n",
    "```python\n",
    "# Exercise 49\n",
    "```\n",
    "\n",
    "---\n",
    "\n",
    "### Exercise 50:\n",
    "Use variables to calculate and store the average of three numbers.\n",
    "\n",
    "```python\n",
    "# Exercise 50\n",
    "```\n",
    "\n",
    "****"
   ]
  },
  {
   "cell_type": "markdown",
   "id": "0b671870-5327-4ed0-afe0-fd89a5251bfc",
   "metadata": {},
   "source": [
    "# Exercise 01"
   ]
  },
  {
   "cell_type": "code",
   "execution_count": 8,
   "id": "b30e1e92-4020-43e6-96f6-ac742f0751fb",
   "metadata": {},
   "outputs": [],
   "source": [
    "x = 10"
   ]
  },
  {
   "cell_type": "markdown",
   "id": "dff0bdb3-12d5-4fcd-ad01-fd88a79e2133",
   "metadata": {},
   "source": [
    "# Exercise 02"
   ]
  },
  {
   "cell_type": "code",
   "execution_count": 11,
   "id": "470b3548-2524-4701-b1b4-c32c654757e1",
   "metadata": {},
   "outputs": [],
   "source": [
    "is_valid = True"
   ]
  },
  {
   "cell_type": "markdown",
   "id": "1b4bac44-d36e-44a9-a924-4bef2a17bc57",
   "metadata": {},
   "source": [
    "# Exercise 03"
   ]
  },
  {
   "cell_type": "code",
   "execution_count": 15,
   "id": "20ea151d-7362-496f-89f5-83905f1eb3a2",
   "metadata": {},
   "outputs": [],
   "source": [
    "name = \"Python Programming\""
   ]
  },
  {
   "cell_type": "markdown",
   "id": "64596061-8886-4a93-aa7a-3840184209a8",
   "metadata": {},
   "source": [
    "# Exercise 04"
   ]
  },
  {
   "cell_type": "code",
   "execution_count": 20,
   "id": "a03b48a2-9299-4a4d-a03a-3aacc295e4a5",
   "metadata": {},
   "outputs": [],
   "source": [
    "sum_result = 5 + 3"
   ]
  },
  {
   "cell_type": "markdown",
   "id": "9344b314-9db0-449c-8533-293d79ee9056",
   "metadata": {},
   "source": [
    "# Exercise 05"
   ]
  },
  {
   "cell_type": "code",
   "execution_count": 23,
   "id": "00a4c41a-133f-4b1d-bdf7-fe948c6b6428",
   "metadata": {},
   "outputs": [],
   "source": [
    "a, b, c = 5, 10, 15"
   ]
  },
  {
   "cell_type": "markdown",
   "id": "6abcf800-22ae-44eb-866d-fb621a7303e2",
   "metadata": {},
   "source": [
    "# Exercise 06"
   ]
  },
  {
   "cell_type": "code",
   "execution_count": 2,
   "id": "4e836627-2cdf-407e-9880-0bce9560b7e8",
   "metadata": {},
   "outputs": [],
   "source": [
    "x = y = 10"
   ]
  },
  {
   "cell_type": "markdown",
   "id": "31e9a985-c756-40c5-b0e8-b63e72f31613",
   "metadata": {},
   "source": [
    "# Exercise 07"
   ]
  },
  {
   "cell_type": "code",
   "execution_count": 5,
   "id": "4846eae1-fa21-446c-b8d4-94e21bd5ab37",
   "metadata": {},
   "outputs": [],
   "source": [
    "gravity = 9.8"
   ]
  },
  {
   "cell_type": "markdown",
   "id": "edca7e79-4281-4233-8268-168ef91ac0c3",
   "metadata": {},
   "source": [
    "# Exercise 08"
   ]
  },
  {
   "cell_type": "code",
   "execution_count": 8,
   "id": "485228d8-75c7-490b-9f42-8e4a01a19844",
   "metadata": {},
   "outputs": [],
   "source": [
    "Country = 'Rwanda'"
   ]
  },
  {
   "cell_type": "markdown",
   "id": "629c52d6-b546-49ca-ad9a-6853d8e28aff",
   "metadata": {},
   "source": [
    "# Exercise 09"
   ]
  },
  {
   "cell_type": "code",
   "execution_count": 11,
   "id": "82fc3066-6f4f-4884-b91f-ffdbc1a497ab",
   "metadata": {},
   "outputs": [],
   "source": [
    "Age = 25\n",
    "Age = 26"
   ]
  },
  {
   "cell_type": "markdown",
   "id": "117f833a-6fbe-4956-bf84-a46934656200",
   "metadata": {},
   "source": [
    "# Exercise 10"
   ]
  },
  {
   "cell_type": "code",
   "execution_count": 14,
   "id": "fa5df8f1-2a98-4fa9-985b-789040178ea2",
   "metadata": {},
   "outputs": [],
   "source": [
    "z = 20-7"
   ]
  },
  {
   "cell_type": "markdown",
   "id": "cef839c1-5787-4854-a114-46fb8fee9a18",
   "metadata": {},
   "source": [
    "# Exercise 11"
   ]
  },
  {
   "cell_type": "code",
   "execution_count": 17,
   "id": "15b1d15e-e8e6-49a0-ac71-f5c6daa4bdd4",
   "metadata": {},
   "outputs": [],
   "source": [
    "a = 3\n",
    "b = 3.5"
   ]
  },
  {
   "cell_type": "markdown",
   "id": "01c10023-a529-4145-b3a1-e46b2a5af4bc",
   "metadata": {},
   "source": [
    "# Exercise 12"
   ]
  },
  {
   "cell_type": "code",
   "execution_count": 20,
   "id": "f249e674-6e80-437e-b821-f53ed7b44364",
   "metadata": {},
   "outputs": [],
   "source": [
    "is_completed = False"
   ]
  },
  {
   "cell_type": "markdown",
   "id": "895e328e-5ad2-42f6-85c3-4442916d22d8",
   "metadata": {},
   "source": [
    "# Exercise 13"
   ]
  },
  {
   "cell_type": "code",
   "execution_count": 23,
   "id": "9f50080c-73c0-499b-acca-d878f7a9600e",
   "metadata": {},
   "outputs": [],
   "source": [
    "x, y = 1, 2\n",
    "x, y =2, 1"
   ]
  },
  {
   "cell_type": "markdown",
   "id": "86bc0c86-9f27-4470-8637-e5249623cdb4",
   "metadata": {},
   "source": [
    "# Exercise 14"
   ]
  },
  {
   "cell_type": "code",
   "execution_count": 26,
   "id": "60f2e966-c1e2-4f59-a211-6af8b89df62d",
   "metadata": {},
   "outputs": [],
   "source": [
    "complex_num = 3 + 4j"
   ]
  },
  {
   "cell_type": "markdown",
   "id": "585c99c7-1963-4ed4-9c86-92a815ed761a",
   "metadata": {},
   "source": [
    "# Exercise 15"
   ]
  },
  {
   "cell_type": "code",
   "execution_count": 33,
   "id": "2cc2cba2-e1f9-46b3-a8cb-94570cbc3438",
   "metadata": {},
   "outputs": [],
   "source": [
    "x = 5\n",
    "x = str (x)"
   ]
  },
  {
   "cell_type": "markdown",
   "id": "fe384149-0223-488f-b2cf-c336efa64aa0",
   "metadata": {},
   "source": [
    "# Exercise 16"
   ]
  },
  {
   "cell_type": "code",
   "execution_count": 36,
   "id": "e6327f49-c5d9-4ddc-948e-27b907357624",
   "metadata": {},
   "outputs": [],
   "source": [
    "first_name = \"Chantal\"\n",
    "last_name = \"BATAMURIZA\""
   ]
  },
  {
   "cell_type": "markdown",
   "id": "69b33b2f-aec7-4df9-9983-51e764589709",
   "metadata": {},
   "source": [
    "# Exercise 17"
   ]
  },
  {
   "cell_type": "code",
   "execution_count": 39,
   "id": "a391e2a4-61b4-4026-baf8-a4032aa7246d",
   "metadata": {},
   "outputs": [],
   "source": [
    "temperature = 35.5"
   ]
  },
  {
   "cell_type": "markdown",
   "id": "74a3ea08-048d-488d-a3c3-444c5bf04e36",
   "metadata": {},
   "source": [
    "# Exercise 18"
   ]
  },
  {
   "cell_type": "code",
   "execution_count": 42,
   "id": "75ef0214-c824-4fec-93bc-cff497446375",
   "metadata": {},
   "outputs": [],
   "source": [
    "product = 8 * 6"
   ]
  },
  {
   "cell_type": "markdown",
   "id": "41da73b1-cd6f-47ae-a669-4841f03355cf",
   "metadata": {},
   "source": [
    "# Exercise 19"
   ]
  },
  {
   "cell_type": "code",
   "execution_count": 45,
   "id": "7449a915-4679-4b13-9f76-e333ccb05db6",
   "metadata": {},
   "outputs": [],
   "source": [
    "sentence = \"Basics of Python\""
   ]
  },
  {
   "cell_type": "markdown",
   "id": "4651c8fa-4464-4a28-a992-e7b692d24864",
   "metadata": {},
   "source": [
    "# Exercise 20"
   ]
  },
  {
   "cell_type": "code",
   "execution_count": 48,
   "id": "cb1022af-7743-4f7c-b3f9-f6d0c03ff533",
   "metadata": {},
   "outputs": [],
   "source": [
    "int_value = int('50')"
   ]
  },
  {
   "cell_type": "markdown",
   "id": "2490650c-d2c3-488b-bf1f-d080515f45ed",
   "metadata": {},
   "source": [
    "# Exercise 21"
   ]
  },
  {
   "cell_type": "code",
   "execution_count": 51,
   "id": "ad8c8e80-ef15-4862-9902-76c221671eba",
   "metadata": {},
   "outputs": [],
   "source": [
    "quotient = 144 / 12"
   ]
  },
  {
   "cell_type": "markdown",
   "id": "5bb3b05d-5894-417b-8459-1ba397bcbd69",
   "metadata": {},
   "source": [
    "# Exercise 22"
   ]
  },
  {
   "cell_type": "code",
   "execution_count": 54,
   "id": "39f66b14-195f-4552-9e8d-8ff64f8cb29a",
   "metadata": {},
   "outputs": [],
   "source": [
    "remainder = 47 % 5"
   ]
  },
  {
   "cell_type": "markdown",
   "id": "1b272ea5-0ae3-45c7-9566-e3b525936abc",
   "metadata": {},
   "source": [
    "# Exercise 23"
   ]
  },
  {
   "cell_type": "code",
   "execution_count": 57,
   "id": "c4b07251-946a-40e8-bfb7-30f0f01d1254",
   "metadata": {},
   "outputs": [],
   "source": [
    "is_student = True"
   ]
  },
  {
   "cell_type": "markdown",
   "id": "e0283d8f-ee2a-4564-b0fb-9db00ed80ad1",
   "metadata": {},
   "source": [
    "# Exercise 24"
   ]
  },
  {
   "cell_type": "code",
   "execution_count": 60,
   "id": "23e9a94b-5ec5-46f2-82fc-6f2cd2a887e4",
   "metadata": {},
   "outputs": [],
   "source": [
    "modulos = 45 % 4"
   ]
  },
  {
   "cell_type": "markdown",
   "id": "0d6aa18e-7dc3-49d1-9a65-9eea48ede823",
   "metadata": {},
   "source": [
    "# Exercise 25"
   ]
  },
  {
   "cell_type": "code",
   "execution_count": 63,
   "id": "0f5a6649-e94a-4baa-ac27-d5849d9e91e5",
   "metadata": {},
   "outputs": [],
   "source": [
    "pi = 3.14159"
   ]
  },
  {
   "cell_type": "markdown",
   "id": "e5ff3bb1-3842-4fc9-908d-9b77e24ae526",
   "metadata": {},
   "source": [
    "# Exercise 26"
   ]
  },
  {
   "cell_type": "code",
   "execution_count": 66,
   "id": "28489bd7-8b4e-4476-acd1-a72c8e0f290c",
   "metadata": {},
   "outputs": [],
   "source": [
    "length = 5\n",
    "width =  3\n",
    "Area = length * width"
   ]
  },
  {
   "cell_type": "markdown",
   "id": "23133f00-6475-44d1-a0fb-430fbf659a95",
   "metadata": {},
   "source": [
    "# Exercise 27"
   ]
  },
  {
   "cell_type": "code",
   "execution_count": 69,
   "id": "aab3f457-f1b9-435b-b4db-3d8dbf3b904e",
   "metadata": {},
   "outputs": [],
   "source": [
    "negative_value = -20"
   ]
  },
  {
   "cell_type": "markdown",
   "id": "c2e7fa79-bf6e-461d-bb84-fe55ffd76cde",
   "metadata": {},
   "source": [
    "# Exercise 28"
   ]
  },
  {
   "cell_type": "code",
   "execution_count": 74,
   "id": "cde30e0f-ab5f-4424-af14-ef1749df8c6f",
   "metadata": {},
   "outputs": [],
   "source": [
    "greeting = \"Hello, World!\""
   ]
  },
  {
   "cell_type": "markdown",
   "id": "2a2aa8b4-3455-47d6-b02d-694fe243765f",
   "metadata": {},
   "source": [
    "# Exercise 29"
   ]
  },
  {
   "cell_type": "code",
   "execution_count": 79,
   "id": "27ec0a37-4571-4bc5-8225-1b29ef2fa0fa",
   "metadata": {},
   "outputs": [],
   "source": [
    "population = 5,698,200,350"
   ]
  },
  {
   "cell_type": "markdown",
   "id": "b347a234-a6be-47e3-94e2-cd5a578d393b",
   "metadata": {},
   "source": [
    "# Exercise 30"
   ]
  },
  {
   "cell_type": "code",
   "execution_count": 82,
   "id": "9fcc69fe-0dfa-4664-b460-7ebdd7da1050",
   "metadata": {},
   "outputs": [],
   "source": [
    "p = 2**8"
   ]
  },
  {
   "cell_type": "markdown",
   "id": "a166d67e-77ee-471d-bf19-6aaf93ed92dd",
   "metadata": {},
   "source": [
    "# Exercise 31"
   ]
  },
  {
   "cell_type": "code",
   "execution_count": 85,
   "id": "062357fd-b5b5-42c1-814d-b9c0565b7ee1",
   "metadata": {},
   "outputs": [],
   "source": [
    "fruits = ['Apple', 'Pineapple', 'Mango', 'Banana']"
   ]
  },
  {
   "cell_type": "markdown",
   "id": "89be2b4c-5911-41f8-b109-a548bdc4ebe9",
   "metadata": {},
   "source": [
    "# Exercise 32"
   ]
  },
  {
   "cell_type": "code",
   "execution_count": 88,
   "id": "f7dbd6ee-543c-411b-89de-1d2ddf5ae0e6",
   "metadata": {},
   "outputs": [],
   "source": [
    "coordinates = (3, 4, 5)"
   ]
  },
  {
   "cell_type": "markdown",
   "id": "d171627a-7d5a-4b13-8be4-3e5d0f6f149f",
   "metadata": {},
   "source": [
    "# Exercise 33"
   ]
  },
  {
   "cell_type": "code",
   "execution_count": 91,
   "id": "db258fbc-0c94-4266-91a7-7cba584bc2d3",
   "metadata": {},
   "outputs": [],
   "source": [
    "person = {'Name': 'Ian', 'Age': 10}"
   ]
  },
  {
   "cell_type": "markdown",
   "id": "73f2b224-796e-4cbe-a2b9-7771e59ca795",
   "metadata": {},
   "source": [
    "# Exercise 34"
   ]
  },
  {
   "cell_type": "code",
   "execution_count": 98,
   "id": "02af9af0-f50f-42b1-9b48-9e8d5f0d62f5",
   "metadata": {},
   "outputs": [],
   "source": [
    "x = 1.5\n",
    "y = 5.2\n",
    "z = x + y"
   ]
  },
  {
   "cell_type": "markdown",
   "id": "0da8146d-3a55-4c28-8ea3-8893fbf0c9e0",
   "metadata": {},
   "source": [
    "# Exercise 35"
   ]
  },
  {
   "cell_type": "code",
   "execution_count": 101,
   "id": "4002b839-3fb2-436e-af8f-d84b3fdf2f44",
   "metadata": {},
   "outputs": [],
   "source": [
    "is_sunny = 10 > 5"
   ]
  },
  {
   "cell_type": "markdown",
   "id": "eafad1f8-a76c-4ca2-9d17-49103b885b5d",
   "metadata": {},
   "source": [
    "# Exercise 36"
   ]
  },
  {
   "cell_type": "code",
   "execution_count": 104,
   "id": "f7f5b418-ae5e-44b5-badc-6f6661c9026d",
   "metadata": {},
   "outputs": [],
   "source": [
    "x = \"I'm in level\"\n",
    "y = 4"
   ]
  },
  {
   "cell_type": "markdown",
   "id": "6c9065c2-234a-4c75-b981-66117ac841bc",
   "metadata": {},
   "source": [
    "# Exercise 37"
   ]
  },
  {
   "cell_type": "code",
   "execution_count": 107,
   "id": "3dd67f6d-359e-433c-b330-146011406c4b",
   "metadata": {},
   "outputs": [],
   "source": [
    "a =5 \n",
    "a = False"
   ]
  },
  {
   "cell_type": "markdown",
   "id": "6d339d66-4b65-4c62-8fa4-12899f7bd07c",
   "metadata": {},
   "source": [
    "# Exercise 38"
   ]
  },
  {
   "cell_type": "code",
   "execution_count": 110,
   "id": "07665f8e-fa6a-4d4f-b552-fdbaccb5e379",
   "metadata": {},
   "outputs": [],
   "source": [
    "is_weekend = False"
   ]
  },
  {
   "cell_type": "markdown",
   "id": "1cef92fc-bc82-43d3-a6fd-cccce5b88eef",
   "metadata": {},
   "source": [
    "# Exercise 39"
   ]
  },
  {
   "cell_type": "code",
   "execution_count": 113,
   "id": "7415ca68-36f9-49b8-9d4b-85e50252e2ce",
   "metadata": {},
   "outputs": [],
   "source": [
    "description = \"\"\"Rwanda is \n",
    "a beautiful\n",
    "country\n",
    "\"\"\""
   ]
  },
  {
   "cell_type": "markdown",
   "id": "7c547738-3f03-4c01-87e0-44a035707ac8",
   "metadata": {},
   "source": [
    "# Exercise 40"
   ]
  },
  {
   "cell_type": "code",
   "execution_count": 116,
   "id": "7fad0a88-953c-4024-ac58-a78a4f94bfbb",
   "metadata": {},
   "outputs": [],
   "source": [
    "absolute = abs(-25)"
   ]
  },
  {
   "cell_type": "markdown",
   "id": "b539c463-adaa-458e-a448-d65fe0f4ee1a",
   "metadata": {},
   "source": [
    "# Exercise 41"
   ]
  },
  {
   "cell_type": "code",
   "execution_count": 119,
   "id": "9e258d2f-0380-400f-b847-2f2b8af1aaa5",
   "metadata": {},
   "outputs": [],
   "source": [
    " floor_div_result = 100 // 6 "
   ]
  },
  {
   "cell_type": "markdown",
   "id": "ef5bc6c7-5c66-4763-971b-394531d65307",
   "metadata": {},
   "source": [
    "# Exercise 42"
   ]
  },
  {
   "cell_type": "code",
   "execution_count": 122,
   "id": "ecfc7ed0-05c6-45ef-bacb-6a6ea1c563e0",
   "metadata": {},
   "outputs": [],
   "source": [
    "mixed_sum = 5 + 2.5"
   ]
  },
  {
   "cell_type": "markdown",
   "id": "4c0e4eb9-60dd-4d4b-b365-430b0c513267",
   "metadata": {},
   "source": [
    "# Exercise 43"
   ]
  },
  {
   "cell_type": "code",
   "execution_count": 127,
   "id": "fab50720-1a8e-4759-983b-e8e4efdb4de8",
   "metadata": {},
   "outputs": [],
   "source": [
    "str1 = \"TekHer\"\n",
    "str2 = \"Program\"\n",
    "Program_name= str1 + str2"
   ]
  },
  {
   "cell_type": "markdown",
   "id": "03b4be21-fba1-42b9-8962-14460142b150",
   "metadata": {},
   "source": [
    "# Exercise 44"
   ]
  },
  {
   "cell_type": "code",
   "execution_count": 130,
   "id": "2d1e0abd-460f-453a-9dc3-2680cdf73ac2",
   "metadata": {},
   "outputs": [],
   "source": [
    "empty_list = []"
   ]
  },
  {
   "cell_type": "markdown",
   "id": "bea723ea-4466-4570-ac94-ff92f8f34c20",
   "metadata": {},
   "source": [
    "# Exercise 45"
   ]
  },
  {
   "cell_type": "markdown",
   "id": "42a64d7f-2343-4a08-830f-a9a601505dee",
   "metadata": {},
   "source": [
    "a = 10\n",
    "b = 20\n",
    "comparison = a < b"
   ]
  },
  {
   "cell_type": "markdown",
   "id": "a8097179-0798-46d7-9fb8-8c4aa6a53e15",
   "metadata": {},
   "source": [
    "# Exercise 46"
   ]
  },
  {
   "cell_type": "code",
   "execution_count": 136,
   "id": "6898f29e-3efa-4622-8a08-296ff61bb3fd",
   "metadata": {},
   "outputs": [],
   "source": [
    "sent = \"coding is the best, especially using python\"\n",
    "len = len(sent)"
   ]
  },
  {
   "cell_type": "markdown",
   "id": "37428173-fc18-457f-ab0f-710d3d8951b4",
   "metadata": {},
   "source": [
    "# Exercise 47"
   ]
  },
  {
   "cell_type": "code",
   "execution_count": 139,
   "id": "bf5a3c55-3bac-484b-b4bb-fa61e13860e5",
   "metadata": {},
   "outputs": [],
   "source": [
    "division_result = 7 / 3"
   ]
  },
  {
   "cell_type": "markdown",
   "id": "b36008f1-15be-43b6-a4bb-4a4934d54ff4",
   "metadata": {},
   "source": [
    "# Exercise 48"
   ]
  },
  {
   "cell_type": "code",
   "execution_count": 142,
   "id": "1a3cf455-a57e-4924-a54d-f4427e994fd8",
   "metadata": {},
   "outputs": [],
   "source": [
    "speed = 100"
   ]
  },
  {
   "cell_type": "markdown",
   "id": "56e57f5a-d4ea-4329-8a28-b2c9af6d84d0",
   "metadata": {},
   "source": [
    "# Exercise 49"
   ]
  },
  {
   "cell_type": "code",
   "execution_count": 145,
   "id": "15b85771-726c-45b1-aaad-cf46777efb04",
   "metadata": {},
   "outputs": [],
   "source": [
    "x = 4\n",
    "y = (3 * x) + 5"
   ]
  },
  {
   "cell_type": "markdown",
   "id": "9bf6ca10-4acc-4246-858c-ce6812eba28f",
   "metadata": {},
   "source": [
    "# Exercise 50"
   ]
  },
  {
   "cell_type": "code",
   "execution_count": 148,
   "id": "0b40c1a0-7223-4166-992d-c43c3de70e93",
   "metadata": {},
   "outputs": [],
   "source": [
    "num_1 = 5\n",
    "num_2 = 10\n",
    "num_3 = 15\n",
    "average = (num_1+num_2+num_3)/3"
   ]
  },
  {
   "cell_type": "code",
   "execution_count": null,
   "id": "370d3b2d-6c6a-4a23-a676-6ce70e0b8ca6",
   "metadata": {},
   "outputs": [],
   "source": []
  }
 ],
 "metadata": {
  "kernelspec": {
   "display_name": "Python [conda env:base] *",
   "language": "python",
   "name": "conda-base-py"
  },
  "language_info": {
   "codemirror_mode": {
    "name": "ipython",
    "version": 3
   },
   "file_extension": ".py",
   "mimetype": "text/x-python",
   "name": "python",
   "nbconvert_exporter": "python",
   "pygments_lexer": "ipython3",
   "version": "3.12.7"
  }
 },
 "nbformat": 4,
 "nbformat_minor": 5
}
