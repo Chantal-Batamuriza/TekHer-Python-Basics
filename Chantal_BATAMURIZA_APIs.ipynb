{
 "cells": [
  {
   "cell_type": "markdown",
   "id": "8263e348-5baf-42c5-af8a-93d268e00752",
   "metadata": {
    "id": "8263e348-5baf-42c5-af8a-93d268e00752"
   },
   "source": [
    "# Exercise with Open Weather APIs\n",
    "\n",
    "Although most of the tasks are wrapped in functions, please feel free to test lines of code outside the function.\n",
    "Once you are happy that the code is running, you can put the code in the function and test it."
   ]
  },
  {
   "cell_type": "code",
   "execution_count": 3,
   "id": "16c0367a-d5c3-4409-9c6d-f916afb15b61",
   "metadata": {
    "id": "16c0367a-d5c3-4409-9c6d-f916afb15b61"
   },
   "outputs": [],
   "source": [
    "#Import all the libraries here\n",
    "import requests\n",
    "import json\n",
    "import pandas as pd"
   ]
  },
  {
   "cell_type": "markdown",
   "id": "830dce1f-ec94-4cb1-bfe9-2468bd2095ee",
   "metadata": {
    "id": "830dce1f-ec94-4cb1-bfe9-2468bd2095ee",
    "tags": []
   },
   "source": [
    "## Data extraction from open weather API\n",
    "In this exercise, you will extract weather data about several cities and save it to a CSV file. We need the following weather information for each city:\n",
    "- *city_name.*\n",
    "- *country.* Name of country where city is.\n",
    "- *date.* Keep only the date without time\n",
    "- *hour.* Show the hour (e.g., 16, 10, 15)\n",
    "- *temp.* Temperature\n",
    "- *temp_min.* Minimum temperature\n",
    "- *temp_max*. Maximum temperature\n",
    "- *humidity.*\n",
    "- *rain.* Get rain volume for the last 3 hours\n",
    "\n",
    "Please use the description above as column names in your dataframe. For further explanattion of the output, see screenshot below.\n",
    "\n",
    "Please retrieve and get data for the following cities: ```'Lilongwe', 'Kigali', 'Blantyre', 'Lusaka', 'Tokyo'```\n",
    "\n",
    "The base url for the weather API is this: ```http://api.openweathermap.org/data/2.5/forecast?id=```"
   ]
  },
  {
   "cell_type": "markdown",
   "id": "3131c3ad-c33f-4e0b-b252-15c6e78fc192",
   "metadata": {
    "id": "3131c3ad-c33f-4e0b-b252-15c6e78fc192"
   },
   "source": [
    "### Define functions to extract data from the API"
   ]
  },
  {
   "cell_type": "code",
   "execution_count": 19,
   "id": "d6c276b5-b727-4cd0-9235-84ea59694c2a",
   "metadata": {
    "id": "d6c276b5-b727-4cd0-9235-84ea59694c2a",
    "tags": []
   },
   "outputs": [
    {
     "ename": "NameError",
     "evalue": "name 'city_file' is not defined",
     "output_type": "error",
     "traceback": [
      "\u001b[1;31m---------------------------------------------------------------------------\u001b[0m",
      "\u001b[1;31mNameError\u001b[0m                                 Traceback (most recent call last)",
      "Cell \u001b[1;32mIn[19], line 77\u001b[0m\n\u001b[0;32m     73\u001b[0m     df \u001b[38;5;241m=\u001b[39m pd\u001b[38;5;241m.\u001b[39mDataFrame(data)\n\u001b[0;32m     74\u001b[0m     \u001b[38;5;28mprint\u001b[39m(df)\n\u001b[1;32m---> 77\u001b[0m city_id_from_name(\u001b[38;5;124m'\u001b[39m\u001b[38;5;124mKigali\u001b[39m\u001b[38;5;124m'\u001b[39m,\u001b[38;5;124mr\u001b[39m\u001b[38;5;124m\"\u001b[39m\u001b[38;5;124mC:\u001b[39m\u001b[38;5;124m\\\u001b[39m\u001b[38;5;124mUsers\u001b[39m\u001b[38;5;124m\\\u001b[39m\u001b[38;5;124mUser\u001b[39m\u001b[38;5;124m\\\u001b[39m\u001b[38;5;124mOneDrive\u001b[39m\u001b[38;5;124m\\\u001b[39m\u001b[38;5;124mDocuments\u001b[39m\u001b[38;5;124m\\\u001b[39m\u001b[38;5;124mTekher 2\u001b[39m\u001b[38;5;124m\\\u001b[39m\u001b[38;5;124mcity.list.json\u001b[39m\u001b[38;5;124m\"\u001b[39m)\n",
      "Cell \u001b[1;32mIn[19], line 26\u001b[0m, in \u001b[0;36mcity_id_from_name\u001b[1;34m(name, city_list_json_file)\u001b[0m\n\u001b[0;32m     25\u001b[0m \u001b[38;5;28;01mdef\u001b[39;00m \u001b[38;5;21mcity_id_from_name\u001b[39m(name, city_list_json_file\u001b[38;5;241m=\u001b[39m\u001b[38;5;28;01mNone\u001b[39;00m):\n\u001b[1;32m---> 26\u001b[0m     fopen \u001b[38;5;241m=\u001b[39m \u001b[38;5;28mopen\u001b[39m(city_file, encoding\u001b[38;5;241m=\u001b[39m\u001b[38;5;124m\"\u001b[39m\u001b[38;5;124mutf8\u001b[39m\u001b[38;5;124m\"\u001b[39m)\n\u001b[0;32m     27\u001b[0m     city_list \u001b[38;5;241m=\u001b[39m json\u001b[38;5;241m.\u001b[39mload(fopen)\n\u001b[0;32m     29\u001b[0m     \u001b[38;5;28;01mfor\u001b[39;00m c \u001b[38;5;129;01min\u001b[39;00m city_list:\n",
      "\u001b[1;31mNameError\u001b[0m: name 'city_file' is not defined"
     ]
    }
   ],
   "source": [
    "def city_id_from_name(city_name=None, city_list_json_file=None):\n",
    "    \"\"\"\n",
    "    Given city name, returns city_id for use in the weather API\n",
    "    Arguments:\n",
    "    city_name -- name of city we want city_id for\n",
    "    city_list_json_file -- full path to json filee containing city names and id's\n",
    "    \"\"\"\n",
    "    # open json file like this: open(jsofile,encoding=\"utf8\" )(~ 1 line)\n",
    "    fopen = None\n",
    "\n",
    "    # use json.load() load the json file opened above(~ 1 line)\n",
    "    # Note that the resulting object is a list\n",
    "    city_list = None\n",
    "\n",
    "    # Write a for loop to go through the list above and do the following\n",
    "    # 1. cheeck if city_name is equal to our target city name, if so\n",
    "    # save it in a variable, break out of the loop\n",
    "    # and return the city_id\n",
    "    # Remember that the contents of the list are dictionaries\n",
    "    # Make sure you convert both strings to lower case before comparing them\n",
    "    # (~ 3 lines)\n",
    "\n",
    "\n",
    "    # Remember to return the city_id\n",
    "\n",
    "def city_id_from_name(name, city_list_json_file=None):\n",
    "    fopen = open(city_file, encoding=\"utf8\")\n",
    "    city_list = json.load(fopen)\n",
    "\n",
    "    for c in city_list:\n",
    "                \n",
    "        if c['name'] == name:\n",
    "            \n",
    "           city_id = c['id']\n",
    "           city_country = c['country']\n",
    "           print(city_id, city_country)\n",
    "\n",
    "    base_url = \"https://api.openweathermap.org/data/2.5/\"\n",
    "    category = 'forecast'\n",
    "    api_key = '326246a875b25fc697de7f1e5f59bbe4'\n",
    "    full_url = \"{}{}?id={}&APPID={}\".format(base_url, category, city_id, api_key)\n",
    "    response = requests.get(full_url)\n",
    "    response.status_code\n",
    "    json_obj = response.json()\n",
    "    json_obj['list']\n",
    "\n",
    "\n",
    "    data = []\n",
    "    for i in json_obj['list']:\n",
    "        \n",
    "        date_str = i['dt_txt'][:10]\n",
    "        hour_str = i['dt_txt'][11:13]  # fix: better slicing\n",
    "\n",
    "        temp = i['main']['temp']\n",
    "        temp_min = i['main']['temp_min']\n",
    "        temp_max = i['main']['temp_max']\n",
    "        hum = i['main']['humidity']\n",
    "        rain = i.get('rain', {}).get('3h', 0)\n",
    "\n",
    "        data_item = {\n",
    "            \n",
    "           'Date': date_str,\n",
    "           'Hour': hour_str,\n",
    "           'temp': temp,\n",
    "           'temp_min': temp_min,\n",
    "           'temp_max': temp_max,\n",
    "           'humidity': hum,\n",
    "           'rain': rain\n",
    "        }\n",
    "\n",
    "    data.append(data_item)\n",
    "\n",
    "\n",
    "    df = pd.DataFrame(data)\n",
    "    print(df)\n",
    "\n",
    "\n",
    "city_id_from_name('Kigali',r\"C:\\Users\\User\\OneDrive\\Documents\\Tekher 2\\city.list.json\")"
   ]
  },
  {
   "cell_type": "code",
   "execution_count": null,
   "id": "9a340be7-7a48-42bf-bb65-655a45e8395a",
   "metadata": {
    "id": "9a340be7-7a48-42bf-bb65-655a45e8395a",
    "jupyter": {
     "source_hidden": true
    },
    "tags": []
   },
   "outputs": [],
   "source": [
    "def get_weather(base_url, api_key=None, city_id=None, city_name=None):\n",
    "    \"\"\"\n",
    "    Returns current weather for this city as a dataframe\n",
    "    :param base_url --  the base API url\n",
    "    :param api_key -- your API key\n",
    "    :param city_name: city name\n",
    "    :param city_id: city id\n",
    "    :return:\n",
    "    \"\"\"\n",
    "\n",
    "    # add your API key\n",
    "    url = \"{}{}&APPID={}\".format(base_url, city_id, api_key)\n",
    "\n",
    "    # use requests to retrieve data from the API\n",
    "    # ~ 1 line\n",
    "\n",
    "    # retrieve JSON from the response object above\n",
    "    # ~ 1 line\n",
    "\n",
    "    # inspect the json object and decide how to get the data that we need\n",
    "    # using dictionary style indexing and load the results into a list\n",
    "    # ~ 1 line\n",
    "\n",
    "    # We also need city information such as country, use similar\n",
    "    # dictionary indexing to retrieve the info and put into variable\n",
    "    # ~ 1 line\n",
    "\n",
    "    # Create a list to hold the data items, which will be daily\n",
    "    # weatheer forecasts\n",
    "    # ~ 1 line\n",
    "\n",
    "    # Loop through the data_items and retrieve the data we need\n",
    "    # Do the foowing in the loop\n",
    "    # 1. Create a dictionary and add 'country' and 'city_name' using city_details\n",
    "    # 2. Add the rest of the items: temp, temp_max etc to the dictionary\n",
    "    # 3. add this particullar data item to the data list\n",
    "    # in the loop, use a temporary variable to carry text date info\n",
    "    # so that you can convert it to Python date later\n",
    "    # note that in some items, rain informaion is not available\n",
    "    # find a solution to deal with this issue\n",
    "    # ~ 10-11 lines\n",
    "\n",
    "    # create a dataframe from the data list\n",
    "    # ~ 1 line\n",
    "\n",
    "    # add time aware datetime using function  pd.to_datetime()\n",
    "    # with input in the function being the date_txt column\n",
    "    # ~ 1 line\n",
    "\n",
    "\n",
    "    # add date and hour using avaiable functionality on date objects\n",
    "    # For example, to get date from datetime, do datetime.date()\n",
    "    # use df.apply(lambda x:) type of syntax for this\n",
    "    # ~ 2 lines\n",
    "\n",
    "\n",
    "    # drop columns we dont need, we only need columns specified\n",
    "    # in the problem description\n",
    "\n",
    "\n",
    "    # Remember to return the dataframe"
   ]
  },
  {
   "cell_type": "markdown",
   "id": "1c6024f7-5da2-44b7-bed4-6deb63930aab",
   "metadata": {
    "id": "1c6024f7-5da2-44b7-bed4-6deb63930aab"
   },
   "source": [
    "### Putting it all together\n",
    "Define a helper functions to go through a list of countries and retrieve data by calling the functions above."
   ]
  },
  {
   "cell_type": "code",
   "execution_count": null,
   "id": "8cd8cf91-dd91-44d3-a076-3680213af8c5",
   "metadata": {
    "id": "8cd8cf91-dd91-44d3-a076-3680213af8c5",
    "jupyter": {
     "source_hidden": true
    },
    "tags": []
   },
   "outputs": [],
   "source": [
    "def retrieve_and_save_weather_data(city_list, output_csv):\n",
    "    \"\"\"\n",
    "    Helper function putting everything together.\n",
    "    Arguments:\n",
    "    url -- list of cityt names to get data for\n",
    "    output_csv -- full path to CSV where to sav data\n",
    "    \"\"\"\n",
    "\n",
    "    # base weather API url\n",
    "    # ~ 1 line\n",
    "\n",
    "    # REPLACE WITH YOUR OWN OR YOU CAN USE MINE\n",
    "    # in case your key isnt working, use mine: 'cd689df7ce5a01db2aafde528e3d87c4'\n",
    "    # ~ 1 line\n",
    "\n",
    "    # list to hold dataframes for each city\n",
    "    # ~ 1 line\n",
    "\n",
    "    # Loop through list of city names and do the following\n",
    "    # 1. Get city id\n",
    "    # 2. get weather data for this city\n",
    "    # 3. Add this weather data into the list above\n",
    "    # ~ 3 lines\n",
    "\n",
    "\n",
    "    # use pandas function pd.concat() to combine dataframes in the list into a single\n",
    "    # dataframe and save to CSV file without index"
   ]
  },
  {
   "cell_type": "code",
   "execution_count": null,
   "id": "a9e0bcd6-3189-4f42-8b0e-8641b32e3e77",
   "metadata": {
    "id": "a9e0bcd6-3189-4f42-8b0e-8641b32e3e77"
   },
   "outputs": [],
   "source": [
    "# call function here with the city names provided in the introduction.\n",
    "# Make sure to also pass full-path for output CSV file\n",
    "city_names = None\n",
    "output_file = None"
   ]
  },
  {
   "cell_type": "code",
   "execution_count": null,
   "id": "499bd720-92be-47c5-ad83-ff736f9d8a18",
   "metadata": {
    "id": "499bd720-92be-47c5-ad83-ff736f9d8a18"
   },
   "outputs": [],
   "source": []
  }
 ],
 "metadata": {
  "colab": {
   "provenance": []
  },
  "kernelspec": {
   "display_name": "Python [conda env:base] *",
   "language": "python",
   "name": "conda-base-py"
  },
  "language_info": {
   "codemirror_mode": {
    "name": "ipython",
    "version": 3
   },
   "file_extension": ".py",
   "mimetype": "text/x-python",
   "name": "python",
   "nbconvert_exporter": "python",
   "pygments_lexer": "ipython3",
   "version": "3.12.7"
  }
 },
 "nbformat": 4,
 "nbformat_minor": 5
}
